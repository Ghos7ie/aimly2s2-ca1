{
 "cells": [
  {
   "cell_type": "markdown",
   "metadata": {},
   "source": [
    "**Purpose of Analysis** - To find out the sorts of people likely to have survived the sinking of Titanic\n",
    "\n",
    "***\n",
    "\n",
    "<font color=\"blue\">\n",
    "Libraries used - \n",
    "    \n",
    "    1. HEHE\n",
    "    2. EX \n",
    "    3. alksdjf\n",
    "    4. laksjflaksdf\n",
    "    \n",
    "</font>\n",
    "\n",
    "*******\n",
    "\n",
    "<font color=\"green\">\n",
    "Steps taken - \n",
    "</font>\n",
    "    \n",
    "    1. K\n",
    "    2. TEST\n",
    "    "
   ]
  },
  {
   "cell_type": "code",
   "execution_count": 2,
   "metadata": {},
   "outputs": [],
   "source": [
    "# Step 1 : Importing necessary libraries "
   ]
  },
  {
   "cell_type": "code",
   "execution_count": 3,
   "metadata": {},
   "outputs": [],
   "source": [
    "# Step 2 : Import data needed"
   ]
  },
  {
   "cell_type": "code",
   "execution_count": 4,
   "metadata": {},
   "outputs": [],
   "source": [
    "# Step 3 : Read and Summaraise data to learn more about them"
   ]
  }
 ],
 "metadata": {
  "kernelspec": {
   "display_name": "Python 3",
   "language": "python",
   "name": "python3"
  },
  "language_info": {
   "codemirror_mode": {
    "name": "ipython",
    "version": 3
   },
   "file_extension": ".py",
   "mimetype": "text/x-python",
   "name": "python",
   "nbconvert_exporter": "python",
   "pygments_lexer": "ipython3",
   "version": "3.7.0"
  }
 },
 "nbformat": 4,
 "nbformat_minor": 2
}
